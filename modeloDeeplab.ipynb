{
  "nbformat": 4,
  "nbformat_minor": 0,
  "metadata": {
    "colab": {
      "provenance": [],
      "authorship_tag": "ABX9TyPPjRhihdvntFQS9XRdaeEx",
      "include_colab_link": true
    },
    "kernelspec": {
      "name": "python3",
      "display_name": "Python 3"
    },
    "language_info": {
      "name": "python"
    }
  },
  "cells": [
    {
      "cell_type": "markdown",
      "metadata": {
        "id": "view-in-github",
        "colab_type": "text"
      },
      "source": [
        "<a href=\"https://colab.research.google.com/github/FrederickUdis/SegmentacionSemantica/blob/main/modeloDeeplab.ipynb\" target=\"_parent\"><img src=\"https://colab.research.google.com/assets/colab-badge.svg\" alt=\"Open In Colab\"/></a>"
      ]
    },
    {
      "cell_type": "markdown",
      "source": [
        "## Instalaciones Necesarias"
      ],
      "metadata": {
        "id": "jm-RGNMNovM4"
      }
    },
    {
      "cell_type": "code",
      "source": [
        "!pip install nnabla opencv-python"
      ],
      "metadata": {
        "id": "FqduQTxc8dns",
        "colab": {
          "base_uri": "https://localhost:8080/",
          "height": 1000
        },
        "outputId": "778b22aa-7207-4936-a517-ea89dd6b8cef"
      },
      "execution_count": 1,
      "outputs": [
        {
          "output_type": "stream",
          "name": "stdout",
          "text": [
            "Collecting nnabla\n",
            "  Downloading nnabla-1.38.0-cp310-cp310-manylinux_2_28_x86_64.whl (18.5 MB)\n",
            "\u001b[2K     \u001b[90m━━━━━━━━━━━━━━━━━━━━━━━━━━━━━━━━━━━━━━━━\u001b[0m \u001b[32m18.5/18.5 MB\u001b[0m \u001b[31m24.9 MB/s\u001b[0m eta \u001b[36m0:00:00\u001b[0m\n",
            "\u001b[?25hRequirement already satisfied: opencv-python in /usr/local/lib/python3.10/dist-packages (4.8.0.76)\n",
            "Requirement already satisfied: setuptools in /usr/local/lib/python3.10/dist-packages (from nnabla) (67.7.2)\n",
            "Collecting Cython~=0.29 (from nnabla)\n",
            "  Downloading Cython-0.29.37-cp310-cp310-manylinux_2_17_x86_64.manylinux2014_x86_64.manylinux_2_24_x86_64.whl (1.9 MB)\n",
            "\u001b[2K     \u001b[90m━━━━━━━━━━━━━━━━━━━━━━━━━━━━━━━━━━━━━━━━\u001b[0m \u001b[32m1.9/1.9 MB\u001b[0m \u001b[31m17.2 MB/s\u001b[0m eta \u001b[36m0:00:00\u001b[0m\n",
            "\u001b[?25hCollecting numpy~=1.26.0 (from nnabla)\n",
            "  Downloading numpy-1.26.3-cp310-cp310-manylinux_2_17_x86_64.manylinux2014_x86_64.whl (18.2 MB)\n",
            "\u001b[2K     \u001b[90m━━━━━━━━━━━━━━━━━━━━━━━━━━━━━━━━━━━━━━━━\u001b[0m \u001b[32m18.2/18.2 MB\u001b[0m \u001b[31m35.4 MB/s\u001b[0m eta \u001b[36m0:00:00\u001b[0m\n",
            "\u001b[?25hCollecting boto3 (from nnabla)\n",
            "  Downloading boto3-1.34.20-py3-none-any.whl (139 kB)\n",
            "\u001b[2K     \u001b[90m━━━━━━━━━━━━━━━━━━━━━━━━━━━━━━━━━━━━━━━━\u001b[0m \u001b[32m139.3/139.3 kB\u001b[0m \u001b[31m1.1 MB/s\u001b[0m eta \u001b[36m0:00:00\u001b[0m\n",
            "\u001b[?25hCollecting configparser (from nnabla)\n",
            "  Downloading configparser-6.0.0-py3-none-any.whl (19 kB)\n",
            "Requirement already satisfied: contextlib2 in /usr/local/lib/python3.10/dist-packages (from nnabla) (21.6.0)\n",
            "Requirement already satisfied: h5py in /usr/local/lib/python3.10/dist-packages (from nnabla) (3.9.0)\n",
            "Requirement already satisfied: protobuf~=3.20 in /usr/local/lib/python3.10/dist-packages (from nnabla) (3.20.3)\n",
            "Requirement already satisfied: pyyaml in /usr/local/lib/python3.10/dist-packages (from nnabla) (6.0.1)\n",
            "Requirement already satisfied: scipy in /usr/local/lib/python3.10/dist-packages (from nnabla) (1.11.4)\n",
            "Requirement already satisfied: six in /usr/local/lib/python3.10/dist-packages (from nnabla) (1.16.0)\n",
            "Requirement already satisfied: tqdm in /usr/local/lib/python3.10/dist-packages (from nnabla) (4.66.1)\n",
            "Requirement already satisfied: imageio in /usr/local/lib/python3.10/dist-packages (from nnabla) (2.31.6)\n",
            "Requirement already satisfied: pillow>=9.1.0 in /usr/local/lib/python3.10/dist-packages (from nnabla) (9.4.0)\n",
            "Collecting ply (from nnabla)\n",
            "  Downloading ply-3.11-py2.py3-none-any.whl (49 kB)\n",
            "\u001b[2K     \u001b[90m━━━━━━━━━━━━━━━━━━━━━━━━━━━━━━━━━━━━━━━━\u001b[0m \u001b[32m49.6/49.6 kB\u001b[0m \u001b[31m4.3 MB/s\u001b[0m eta \u001b[36m0:00:00\u001b[0m\n",
            "\u001b[?25hRequirement already satisfied: certifi in /usr/local/lib/python3.10/dist-packages (from nnabla) (2023.11.17)\n",
            "Collecting botocore<1.35.0,>=1.34.20 (from boto3->nnabla)\n",
            "  Downloading botocore-1.34.20-py3-none-any.whl (11.9 MB)\n",
            "\u001b[2K     \u001b[90m━━━━━━━━━━━━━━━━━━━━━━━━━━━━━━━━━━━━━━━━\u001b[0m \u001b[32m11.9/11.9 MB\u001b[0m \u001b[31m32.0 MB/s\u001b[0m eta \u001b[36m0:00:00\u001b[0m\n",
            "\u001b[?25hCollecting jmespath<2.0.0,>=0.7.1 (from boto3->nnabla)\n",
            "  Downloading jmespath-1.0.1-py3-none-any.whl (20 kB)\n",
            "Collecting s3transfer<0.11.0,>=0.10.0 (from boto3->nnabla)\n",
            "  Downloading s3transfer-0.10.0-py3-none-any.whl (82 kB)\n",
            "\u001b[2K     \u001b[90m━━━━━━━━━━━━━━━━━━━━━━━━━━━━━━━━━━━━━━━━\u001b[0m \u001b[32m82.1/82.1 kB\u001b[0m \u001b[31m5.7 MB/s\u001b[0m eta \u001b[36m0:00:00\u001b[0m\n",
            "\u001b[?25hRequirement already satisfied: python-dateutil<3.0.0,>=2.1 in /usr/local/lib/python3.10/dist-packages (from botocore<1.35.0,>=1.34.20->boto3->nnabla) (2.8.2)\n",
            "Requirement already satisfied: urllib3<2.1,>=1.25.4 in /usr/local/lib/python3.10/dist-packages (from botocore<1.35.0,>=1.34.20->boto3->nnabla) (2.0.7)\n",
            "Installing collected packages: ply, numpy, jmespath, Cython, configparser, botocore, s3transfer, boto3, nnabla\n",
            "  Attempting uninstall: numpy\n",
            "    Found existing installation: numpy 1.23.5\n",
            "    Uninstalling numpy-1.23.5:\n",
            "      Successfully uninstalled numpy-1.23.5\n",
            "  Attempting uninstall: Cython\n",
            "    Found existing installation: Cython 3.0.8\n",
            "    Uninstalling Cython-3.0.8:\n",
            "      Successfully uninstalled Cython-3.0.8\n",
            "\u001b[31mERROR: pip's dependency resolver does not currently take into account all the packages that are installed. This behaviour is the source of the following dependency conflicts.\n",
            "lida 0.0.10 requires fastapi, which is not installed.\n",
            "lida 0.0.10 requires kaleido, which is not installed.\n",
            "lida 0.0.10 requires python-multipart, which is not installed.\n",
            "lida 0.0.10 requires uvicorn, which is not installed.\u001b[0m\u001b[31m\n",
            "\u001b[0mSuccessfully installed Cython-0.29.37 boto3-1.34.20 botocore-1.34.20 configparser-6.0.0 jmespath-1.0.1 nnabla-1.38.0 numpy-1.26.3 ply-3.11 s3transfer-0.10.0\n"
          ]
        },
        {
          "output_type": "display_data",
          "data": {
            "application/vnd.colab-display-data+json": {
              "pip_warning": {
                "packages": [
                  "configparser"
                ]
              }
            }
          },
          "metadata": {}
        }
      ]
    },
    {
      "cell_type": "markdown",
      "source": [
        "## Librerias Usadas"
      ],
      "metadata": {
        "id": "4Nbibdtmo347"
      }
    },
    {
      "cell_type": "code",
      "execution_count": 2,
      "metadata": {
        "id": "kn1zDcyF4JVo"
      },
      "outputs": [],
      "source": [
        "import cv2\n",
        "import os\n",
        "import numpy as np\n",
        "import nnabla as nn\n",
        "import cv2\n",
        "from nnabla.models.semantic_segmentation import DeepLabV3plus\n",
        "from nnabla.models.semantic_segmentation.utils import ProcessImage\n",
        "import os"
      ]
    },
    {
      "cell_type": "markdown",
      "source": [
        "## Funcion para convertir Video en fotogramas"
      ],
      "metadata": {
        "id": "dPxzFIydo8zQ"
      }
    },
    {
      "cell_type": "code",
      "source": [
        "def dividir_video_en_fotogramas(ruta_video, ruta_salida, fps=60):\n",
        "    # Cargar el video\n",
        "    video = cv2.VideoCapture(ruta_video)\n",
        "\n",
        "    # Verificar si el video se abrió correctamente\n",
        "    if not video.isOpened():\n",
        "        print(\"Error al abrir el archivo de video.\")\n",
        "        return\n",
        "\n",
        "    # Obtener FPS del video original\n",
        "    video_fps = video.get(cv2.CAP_PROP_FPS)\n",
        "    print(\"Frames del video\",video_fps)\n",
        "    # Calcular el intervalo de frames a capturar\n",
        "    frame_interval = int(video_fps / fps)\n",
        "\n",
        "    # Crear el directorio de salida si no existe\n",
        "    os.makedirs(ruta_salida, exist_ok=True)\n",
        "\n",
        "    frame_id = 0\n",
        "    count = 0\n",
        "    while True:\n",
        "        # Leer un fotograma\n",
        "        success, frame = video.read()\n",
        "\n",
        "        # Verificar si la lectura fue exitosa\n",
        "        if not success or count > video_fps:\n",
        "            break\n",
        "\n",
        "        if count % frame_interval == 0:\n",
        "            # Guardar el fotograma como imagen\n",
        "            cv2.imwrite(f\"{ruta_salida}/frame_{frame_id}.jpg\", frame)\n",
        "            frame_id += 1\n",
        "\n",
        "        count += 1\n",
        "\n",
        "    # Liberar el objeto VideoCapture\n",
        "    video.release()\n",
        "    print(f\"Fotogramas extraídos en {ruta_salida}\")\n",
        "\n"
      ],
      "metadata": {
        "id": "j5Izx59y7VGo"
      },
      "execution_count": 4,
      "outputs": []
    },
    {
      "cell_type": "code",
      "source": [
        "# Uso de la función\n",
        "target_h, target_w = 513, 513\n",
        "dividir_video_en_fotogramas('/content/video_entrada.mp4', '/content/frames/')"
      ],
      "metadata": {
        "colab": {
          "base_uri": "https://localhost:8080/"
        },
        "id": "D3EsMb1t8VRp",
        "outputId": "850984b3-fd26-4847-8394-33eada5491ff"
      },
      "execution_count": 8,
      "outputs": [
        {
          "output_type": "stream",
          "name": "stdout",
          "text": [
            "Frames del video 60.0\n",
            "Fotogramas extraídos en /content/frames/\n"
          ]
        }
      ]
    },
    {
      "cell_type": "markdown",
      "source": [
        "## Modelo preEntrenado para segmentacion semantica"
      ],
      "metadata": {
        "id": "yokwkG9tpQDj"
      }
    },
    {
      "cell_type": "code",
      "source": [
        "deeplabv3 = DeepLabV3plus('voc-coco', output_stride=8)\n",
        "x = nn.Variable((1, 3, target_h, target_w), need_grad=False)\n",
        "y = deeplabv3(x)"
      ],
      "metadata": {
        "id": "3sfKqscT861b",
        "colab": {
          "base_uri": "https://localhost:8080/"
        },
        "outputId": "3719ae06-af3b-469a-a0ad-96790fe3663a"
      },
      "execution_count": 9,
      "outputs": [
        {
          "output_type": "stream",
          "name": "stdout",
          "text": [
            "Loading /root/nnabla_data/nnp_models/semantic_segmentation/DeepLabV3-voc-coco-os-8.nnp.\n"
          ]
        }
      ]
    },
    {
      "cell_type": "markdown",
      "source": [
        "## Aplicacion del modelo a cada fotograma"
      ],
      "metadata": {
        "id": "R6HV_iwDpUXf"
      }
    },
    {
      "cell_type": "code",
      "source": [
        "N=60\n",
        "for i in range(N):\n",
        "  filename = f\"/content/frames/frame_{i}.jpg\"\n",
        "  if not os.path.exists(filename):\n",
        "      continue\n",
        "\n",
        "  # Cargar la imagen usando OpenCV\n",
        "  image = cv2.imread(filename)\n",
        "  image = cv2.cvtColor(image, cv2.COLOR_BGR2RGB)  # Convertir de BGR a RGB\n",
        "\n",
        "  # Preprocesamiento de la imagen\n",
        "  processed_image = ProcessImage(image, target_h, target_w)\n",
        "  input_array = processed_image.pre_process()\n",
        "\n",
        "  # Inferencia\n",
        "  x.d = input_array\n",
        "  y.forward(clear_buffer=True)\n",
        "  output = np.argmax(y.d, axis=1)\n",
        "\n",
        "  # Postprocesamiento\n",
        "  post_processed = processed_image.post_process(output[0])\n",
        "\n",
        "  # Mostrar clases segmentadas\n",
        "  predicted_classes = np.unique(post_processed).astype(int)\n",
        "  print(f\"Clase Segmentada en {filename}:\")\n",
        "  for cls in predicted_classes:\n",
        "      print(deeplabv3.category_names[cls])\n",
        "\n",
        "  # Guardar el resultado de la segmentación\n",
        "  output_filename = f\"/content/output_frame_{i}.png\"\n",
        "  processed_image.save_segmentation_image(output_filename)"
      ],
      "metadata": {
        "colab": {
          "base_uri": "https://localhost:8080/"
        },
        "id": "1oLnpkioIFEx",
        "outputId": "f3018157-59b6-40ec-9933-8ff2bdb16fe9"
      },
      "execution_count": 10,
      "outputs": [
        {
          "output_type": "stream",
          "name": "stdout",
          "text": [
            "Clase Segmentada en /content/frames/frame_0.jpg:\n",
            "aeroplane\n",
            "cow\n",
            "dog\n",
            "pottedplant\n",
            "Clase Segmentada en /content/frames/frame_1.jpg:\n",
            "aeroplane\n",
            "cow\n",
            "dog\n",
            "pottedplant\n",
            "Clase Segmentada en /content/frames/frame_2.jpg:\n",
            "aeroplane\n",
            "cow\n",
            "dog\n",
            "pottedplant\n",
            "Clase Segmentada en /content/frames/frame_3.jpg:\n",
            "aeroplane\n",
            "cow\n",
            "dog\n",
            "pottedplant\n",
            "Clase Segmentada en /content/frames/frame_4.jpg:\n",
            "aeroplane\n",
            "cow\n",
            "dog\n",
            "pottedplant\n",
            "Clase Segmentada en /content/frames/frame_5.jpg:\n",
            "aeroplane\n",
            "cow\n",
            "dog\n",
            "pottedplant\n",
            "Clase Segmentada en /content/frames/frame_6.jpg:\n",
            "aeroplane\n",
            "cow\n",
            "dog\n",
            "pottedplant\n",
            "Clase Segmentada en /content/frames/frame_7.jpg:\n",
            "aeroplane\n",
            "cow\n",
            "dog\n",
            "pottedplant\n",
            "Clase Segmentada en /content/frames/frame_8.jpg:\n",
            "aeroplane\n",
            "cow\n",
            "dog\n",
            "pottedplant\n",
            "Clase Segmentada en /content/frames/frame_9.jpg:\n",
            "aeroplane\n",
            "cow\n",
            "dog\n",
            "pottedplant\n",
            "Clase Segmentada en /content/frames/frame_10.jpg:\n",
            "aeroplane\n",
            "cow\n",
            "dog\n",
            "pottedplant\n",
            "Clase Segmentada en /content/frames/frame_11.jpg:\n",
            "aeroplane\n",
            "cow\n",
            "dog\n",
            "pottedplant\n",
            "Clase Segmentada en /content/frames/frame_12.jpg:\n",
            "aeroplane\n",
            "cow\n",
            "dog\n",
            "pottedplant\n",
            "Clase Segmentada en /content/frames/frame_13.jpg:\n",
            "aeroplane\n",
            "cow\n",
            "dog\n",
            "pottedplant\n",
            "Clase Segmentada en /content/frames/frame_14.jpg:\n",
            "aeroplane\n",
            "cow\n",
            "dog\n",
            "pottedplant\n",
            "Clase Segmentada en /content/frames/frame_15.jpg:\n",
            "aeroplane\n",
            "cow\n",
            "dog\n",
            "pottedplant\n",
            "Clase Segmentada en /content/frames/frame_16.jpg:\n",
            "aeroplane\n",
            "cow\n",
            "dog\n",
            "pottedplant\n",
            "Clase Segmentada en /content/frames/frame_17.jpg:\n",
            "aeroplane\n",
            "cow\n",
            "dog\n",
            "pottedplant\n",
            "Clase Segmentada en /content/frames/frame_18.jpg:\n",
            "aeroplane\n",
            "cow\n",
            "dog\n",
            "pottedplant\n",
            "Clase Segmentada en /content/frames/frame_19.jpg:\n",
            "aeroplane\n",
            "cow\n",
            "dog\n",
            "pottedplant\n",
            "Clase Segmentada en /content/frames/frame_20.jpg:\n",
            "aeroplane\n",
            "cow\n",
            "dog\n",
            "pottedplant\n",
            "Clase Segmentada en /content/frames/frame_21.jpg:\n",
            "aeroplane\n",
            "cow\n",
            "dog\n",
            "pottedplant\n",
            "Clase Segmentada en /content/frames/frame_22.jpg:\n",
            "aeroplane\n",
            "cow\n",
            "dog\n",
            "pottedplant\n",
            "Clase Segmentada en /content/frames/frame_23.jpg:\n",
            "aeroplane\n",
            "cow\n",
            "dog\n",
            "pottedplant\n",
            "Clase Segmentada en /content/frames/frame_24.jpg:\n",
            "aeroplane\n",
            "cow\n",
            "dog\n",
            "pottedplant\n",
            "Clase Segmentada en /content/frames/frame_25.jpg:\n",
            "aeroplane\n",
            "cow\n",
            "dog\n",
            "pottedplant\n",
            "Clase Segmentada en /content/frames/frame_26.jpg:\n",
            "aeroplane\n",
            "cow\n",
            "dog\n",
            "pottedplant\n",
            "Clase Segmentada en /content/frames/frame_27.jpg:\n",
            "aeroplane\n",
            "cow\n",
            "dog\n",
            "pottedplant\n",
            "Clase Segmentada en /content/frames/frame_28.jpg:\n",
            "aeroplane\n",
            "cow\n",
            "dog\n",
            "pottedplant\n",
            "Clase Segmentada en /content/frames/frame_29.jpg:\n",
            "aeroplane\n",
            "cow\n",
            "dog\n",
            "pottedplant\n",
            "Clase Segmentada en /content/frames/frame_30.jpg:\n",
            "aeroplane\n",
            "cow\n",
            "dog\n",
            "pottedplant\n",
            "Clase Segmentada en /content/frames/frame_31.jpg:\n",
            "aeroplane\n",
            "cow\n",
            "dog\n",
            "pottedplant\n",
            "Clase Segmentada en /content/frames/frame_32.jpg:\n",
            "aeroplane\n",
            "cow\n",
            "dog\n",
            "pottedplant\n",
            "Clase Segmentada en /content/frames/frame_33.jpg:\n",
            "aeroplane\n",
            "cow\n",
            "dog\n",
            "pottedplant\n",
            "Clase Segmentada en /content/frames/frame_34.jpg:\n",
            "aeroplane\n",
            "cow\n",
            "dog\n",
            "pottedplant\n",
            "Clase Segmentada en /content/frames/frame_35.jpg:\n",
            "aeroplane\n",
            "cow\n",
            "dog\n",
            "pottedplant\n",
            "Clase Segmentada en /content/frames/frame_36.jpg:\n",
            "aeroplane\n",
            "cow\n",
            "dog\n",
            "pottedplant\n",
            "Clase Segmentada en /content/frames/frame_37.jpg:\n",
            "aeroplane\n",
            "cow\n",
            "dog\n",
            "pottedplant\n",
            "Clase Segmentada en /content/frames/frame_38.jpg:\n",
            "aeroplane\n",
            "cow\n",
            "dog\n",
            "pottedplant\n",
            "Clase Segmentada en /content/frames/frame_39.jpg:\n",
            "aeroplane\n",
            "cow\n",
            "dog\n",
            "pottedplant\n",
            "Clase Segmentada en /content/frames/frame_40.jpg:\n",
            "aeroplane\n",
            "cow\n",
            "dog\n",
            "pottedplant\n",
            "Clase Segmentada en /content/frames/frame_41.jpg:\n",
            "aeroplane\n",
            "cow\n",
            "dog\n",
            "pottedplant\n",
            "Clase Segmentada en /content/frames/frame_42.jpg:\n",
            "aeroplane\n",
            "cow\n",
            "dog\n",
            "pottedplant\n",
            "Clase Segmentada en /content/frames/frame_43.jpg:\n",
            "aeroplane\n",
            "cow\n",
            "dog\n",
            "pottedplant\n",
            "Clase Segmentada en /content/frames/frame_44.jpg:\n",
            "aeroplane\n",
            "cow\n",
            "dog\n",
            "pottedplant\n",
            "Clase Segmentada en /content/frames/frame_45.jpg:\n",
            "aeroplane\n",
            "cow\n",
            "dog\n",
            "pottedplant\n",
            "Clase Segmentada en /content/frames/frame_46.jpg:\n",
            "aeroplane\n",
            "cow\n",
            "dog\n",
            "pottedplant\n",
            "Clase Segmentada en /content/frames/frame_47.jpg:\n",
            "aeroplane\n",
            "cow\n",
            "dog\n",
            "pottedplant\n",
            "Clase Segmentada en /content/frames/frame_48.jpg:\n",
            "aeroplane\n",
            "cow\n",
            "dog\n",
            "pottedplant\n",
            "Clase Segmentada en /content/frames/frame_49.jpg:\n",
            "aeroplane\n",
            "cow\n",
            "dog\n",
            "pottedplant\n",
            "Clase Segmentada en /content/frames/frame_50.jpg:\n",
            "aeroplane\n",
            "cow\n",
            "dog\n",
            "pottedplant\n",
            "Clase Segmentada en /content/frames/frame_51.jpg:\n",
            "aeroplane\n",
            "cow\n",
            "dog\n",
            "pottedplant\n",
            "Clase Segmentada en /content/frames/frame_52.jpg:\n",
            "aeroplane\n",
            "cow\n",
            "dog\n",
            "pottedplant\n",
            "Clase Segmentada en /content/frames/frame_53.jpg:\n",
            "aeroplane\n",
            "cow\n",
            "dog\n",
            "pottedplant\n",
            "Clase Segmentada en /content/frames/frame_54.jpg:\n",
            "aeroplane\n",
            "cow\n",
            "dog\n",
            "pottedplant\n",
            "Clase Segmentada en /content/frames/frame_55.jpg:\n",
            "aeroplane\n",
            "cow\n",
            "dog\n",
            "pottedplant\n",
            "Clase Segmentada en /content/frames/frame_56.jpg:\n",
            "aeroplane\n",
            "cow\n",
            "dog\n",
            "pottedplant\n",
            "Clase Segmentada en /content/frames/frame_57.jpg:\n",
            "aeroplane\n",
            "cow\n",
            "dog\n",
            "pottedplant\n",
            "Clase Segmentada en /content/frames/frame_58.jpg:\n",
            "aeroplane\n",
            "cow\n",
            "dog\n",
            "pottedplant\n",
            "Clase Segmentada en /content/frames/frame_59.jpg:\n",
            "aeroplane\n",
            "cow\n",
            "dog\n",
            "pottedplant\n"
          ]
        }
      ]
    },
    {
      "cell_type": "markdown",
      "source": [
        "## Creacion del video apartir de los nuevos fotogramas"
      ],
      "metadata": {
        "id": "-hshNAwSpa8w"
      }
    },
    {
      "cell_type": "code",
      "source": [
        "def crear_video_desde_fotogramas(directorio_fotogramas, salida_video, fps=24):\n",
        "    # Verificar si el directorio existe\n",
        "    if not os.path.exists(directorio_fotogramas):\n",
        "        print(f\"El directorio {directorio_fotogramas} no existe.\")\n",
        "        return\n",
        "\n",
        "    # Obtener lista de fotogramas\n",
        "    fotogramas = [img for img in os.listdir(directorio_fotogramas) if img.endswith(\".png\")]\n",
        "\n",
        "    # Verificar si hay fotogramas en el directorio\n",
        "    if not fotogramas:\n",
        "        print(\"No se encontraron fotogramas en el directorio.\")\n",
        "        return\n",
        "\n",
        "    # Asegurarse de que los fotogramas se ordenen numéricamente\n",
        "    fotogramas.sort(key=lambda x: int(x.split('_')[2].split('.')[0]))\n",
        "\n",
        "    # Leer el primer fotograma para determinar el tamaño\n",
        "    frame = cv2.imread(os.path.join(directorio_fotogramas, fotogramas[0]))\n",
        "    if frame is None:\n",
        "        print(\"Error al leer el primer fotograma.\")\n",
        "        return\n",
        "    altura, ancho, capas = frame.shape\n",
        "    tamaño = (ancho, altura)\n",
        "\n",
        "    # Crear el objeto VideoWriter\n",
        "    video = cv2.VideoWriter(salida_video, cv2.VideoWriter_fourcc(*'mp4v'), fps, tamaño)\n",
        "\n",
        "    # Añadir fotogramas al video\n",
        "    for fotograma in fotogramas:\n",
        "        imagen = cv2.imread(os.path.join(directorio_fotogramas, fotograma))\n",
        "        if imagen is not None:\n",
        "            video.write(imagen)\n",
        "\n",
        "    # Liberar el objeto VideoWriter\n",
        "    video.release()\n",
        "    print(f\"Fotogramas extraídos en {salida_video}\")\n"
      ],
      "metadata": {
        "id": "324mi4Q3ipI7"
      },
      "execution_count": 15,
      "outputs": []
    },
    {
      "cell_type": "code",
      "source": [
        "crear_video_desde_fotogramas('/content/', '/content/video_salida.mp4')"
      ],
      "metadata": {
        "colab": {
          "base_uri": "https://localhost:8080/"
        },
        "id": "G6vdwyRXiy-u",
        "outputId": "bb210016-4c3d-4fa8-92cb-da114fbbb56d"
      },
      "execution_count": 17,
      "outputs": [
        {
          "output_type": "stream",
          "name": "stdout",
          "text": [
            "Fotogramas extraídos en /content/video_salida.mp4\n"
          ]
        }
      ]
    }
  ]
}